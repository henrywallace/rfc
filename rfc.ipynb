{
 "cells": [
  {
   "cell_type": "code",
   "execution_count": 9,
   "metadata": {},
   "outputs": [
    {
     "name": "stdout",
     "output_type": "stream",
     "text": [
      "3.6.2 (default, Jul 17 2017, 16:44:45) \n",
      "[GCC 4.2.1 Compatible Apple LLVM 8.1.0 (clang-802.0.42)]\n"
     ]
    }
   ],
   "source": [
    "import sys\n",
    "print(sys.version)"
   ]
  },
  {
   "cell_type": "code",
   "execution_count": 81,
   "metadata": {},
   "outputs": [],
   "source": [
    "import logging\n",
    "import json\n",
    "from collections import Counter, defaultdict\n",
    "from math import log\n",
    "from functools import lru_cache\n",
    "\n",
    "from bs4 import BeautifulSoup\n",
    "import requests\n",
    "import regex as re\n",
    "import networkx as nx"
   ]
  },
  {
   "cell_type": "code",
   "execution_count": 11,
   "metadata": {
    "collapsed": true
   },
   "outputs": [],
   "source": [
    "import matplotlib.pyplot as plt\n",
    "import seaborn as sns\n",
    "%matplotlib inline\n",
    "sns.set()"
   ]
  },
  {
   "cell_type": "code",
   "execution_count": 24,
   "metadata": {
    "collapsed": true
   },
   "outputs": [],
   "source": [
    "logging.basicConfig()\n",
    "LOG = logging.getLogger()\n",
    "\n",
    "RFC_RANGE = (1, 8229 + 1)"
   ]
  },
  {
   "cell_type": "markdown",
   "metadata": {},
   "source": [
    "# Helper functions"
   ]
  },
  {
   "cell_type": "code",
   "execution_count": 21,
   "metadata": {
    "collapsed": true
   },
   "outputs": [],
   "source": [
    "def url_from_rfc(rfc):\n",
    "    return 'https://tools.ietf.org/html/rfc{}'.format(rfc)"
   ]
  },
  {
   "cell_type": "code",
   "execution_count": 62,
   "metadata": {
    "collapsed": true
   },
   "outputs": [],
   "source": [
    "def soup_from_rfc(source_rfc):\n",
    "    url = url_from_rfc(source_rfc)\n",
    "    resp = requests.get(url)\n",
    "    resp.raise_for_status()\n",
    "    return BeautifulSoup(resp.content, 'html.parser')"
   ]
  },
  {
   "cell_type": "code",
   "execution_count": 86,
   "metadata": {
    "collapsed": true
   },
   "outputs": [],
   "source": [
    "@lru_cache(maxsize=None)\n",
    "def title_from_soup(source_rfc, soup=None):\n",
    "    \"\"\"\n",
    "    Return the title of an RFC's soup.\n",
    "    \n",
    "    This assumes that the title resides in the first span.\n",
    "    \"\"\"\n",
    "    if soup is None:\n",
    "        soup = soup_from_rfc(source_rfc)\n",
    "    try:\n",
    "        return soup.find_all('span', attrs={'class':'h1'})[0].text\n",
    "    except IndexError:\n",
    "        LOG.warning(f'RFC {source_rfc}: title error')\n",
    "        return ''"
   ]
  },
  {
   "cell_type": "code",
   "execution_count": 83,
   "metadata": {},
   "outputs": [
    {
     "data": {
      "text/plain": [
       "'Key words for use in RFCs to Indicate Requirement Levels'"
      ]
     },
     "execution_count": 83,
     "metadata": {},
     "output_type": "execute_result"
    }
   ],
   "source": [
    "soup = soup_from_rfc(2119)\n",
    "title_from_soup(2119, soup=soup)"
   ]
  },
  {
   "cell_type": "code",
   "execution_count": 16,
   "metadata": {
    "collapsed": true
   },
   "outputs": [],
   "source": [
    "def outgoing(soup, source_rfc):\n",
    "    \"\"\"Yield all non-self RFC links.\"\"\"\n",
    "    seen = {source_rfc}\n",
    "    for link in soup.findAll('a', href=True):\n",
    "        match = re.search('^\\./rfc(\\d+)', link['href'])\n",
    "        if match is not None:\n",
    "            rfc = int(match.group(1))\n",
    "            seen.add(rfc)\n",
    "    return sorted(seen - {source_rfc})"
   ]
  },
  {
   "cell_type": "code",
   "execution_count": 17,
   "metadata": {},
   "outputs": [
    {
     "data": {
      "text/plain": [
       "[1997, 1998, 4264, 7454, 7841, 7947, 7948, 8092]"
      ]
     },
     "execution_count": 17,
     "metadata": {},
     "output_type": "execute_result"
    }
   ],
   "source": [
    "soup = soup_from_rfc(8195)\n",
    "outgoing(soup, 8195)"
   ]
  },
  {
   "cell_type": "code",
   "execution_count": 77,
   "metadata": {},
   "outputs": [
    {
     "name": "stdout",
     "output_type": "stream",
     "text": [
      "https://tools.ietf.org/html/rfc8195\n"
     ]
    }
   ],
   "source": [
    "print(url_from_rfc(8195))"
   ]
  },
  {
   "cell_type": "markdown",
   "metadata": {},
   "source": [
    "# Generate the data"
   ]
  },
  {
   "cell_type": "code",
   "execution_count": 6,
   "metadata": {},
   "outputs": [
    {
     "ename": "RuntimeError",
     "evalue": "No active exception to reraise",
     "output_type": "error",
     "traceback": [
      "\u001b[1;31m---------------------------------------------------------------------------\u001b[0m",
      "\u001b[1;31mRuntimeError\u001b[0m                              Traceback (most recent call last)",
      "\u001b[1;32m<ipython-input-6-26814ed17a01>\u001b[0m in \u001b[0;36m<module>\u001b[1;34m()\u001b[0m\n\u001b[1;32m----> 1\u001b[1;33m \u001b[1;32mraise\u001b[0m\u001b[1;33m\u001b[0m\u001b[0m\n\u001b[0m",
      "\u001b[1;31mRuntimeError\u001b[0m: No active exception to reraise"
     ]
    }
   ],
   "source": [
    "raise"
   ]
  },
  {
   "cell_type": "code",
   "execution_count": 10,
   "metadata": {},
   "outputs": [
    {
     "name": "stderr",
     "output_type": "stream",
     "text": [
      "WARNING:root:RFC 8: 404 Client Error: Not found: (rfc8.txt) for url: https://tools.ietf.org/html/rfc8\n",
      "WARNING:root:RFC 9: 404 Client Error: Not found: (rfc9.txt) for url: https://tools.ietf.org/html/rfc9\n",
      "WARNING:bs4.dammit:Some characters could not be decoded, and were replaced with REPLACEMENT CHARACTER.\n",
      "WARNING:root:RFC 418: 404 Client Error: Not found: (rfc418.txt) for url: https://tools.ietf.org/html/rfc418\n",
      "WARNING:root:RFC 530: 404 Client Error: Not found: (rfc530.txt) for url: https://tools.ietf.org/html/rfc530\n",
      "WARNING:root:RFC 598: 404 Client Error: Not found: (rfc598.txt) for url: https://tools.ietf.org/html/rfc598\n",
      "WARNING:root:RFC 3333: 404 Client Error: Not found: (rfc3333.txt) for url: https://tools.ietf.org/html/rfc3333\n",
      "WARNING:root:RFC 3350: 404 Client Error: Not found: (rfc3350.txt) for url: https://tools.ietf.org/html/rfc3350\n",
      "WARNING:root:RFC 3399: 404 Client Error: Not found: (rfc3399.txt) for url: https://tools.ietf.org/html/rfc3399\n",
      "WARNING:root:RFC 3699: 404 Client Error: Not found: (rfc3699.txt) for url: https://tools.ietf.org/html/rfc3699\n",
      "WARNING:root:RFC 3799: 404 Client Error: Not found: (rfc3799.txt) for url: https://tools.ietf.org/html/rfc3799\n",
      "WARNING:root:RFC 3800: 404 Client Error: Not found: (rfc3800.txt) for url: https://tools.ietf.org/html/rfc3800\n",
      "WARNING:root:RFC 3899: 404 Client Error: Not found: (rfc3899.txt) for url: https://tools.ietf.org/html/rfc3899\n",
      "WARNING:root:RFC 3900: 404 Client Error: Not found: (rfc3900.txt) for url: https://tools.ietf.org/html/rfc3900\n",
      "WARNING:root:RFC 3907: 404 Client Error: Not found: (rfc3907.txt) for url: https://tools.ietf.org/html/rfc3907\n",
      "WARNING:root:RFC 3908: 404 Client Error: Not found: (rfc3908.txt) for url: https://tools.ietf.org/html/rfc3908\n",
      "WARNING:root:RFC 3999: 404 Client Error: Not found: (rfc3999.txt) for url: https://tools.ietf.org/html/rfc3999\n",
      "WARNING:root:RFC 4000: 404 Client Error: Not found: (rfc4000.txt) for url: https://tools.ietf.org/html/rfc4000\n",
      "WARNING:root:RFC 4099: 404 Client Error: Not found: (rfc4099.txt) for url: https://tools.ietf.org/html/rfc4099\n",
      "WARNING:root:RFC 4100: 404 Client Error: Not found: (rfc4100.txt) for url: https://tools.ietf.org/html/rfc4100\n",
      "WARNING:root:RFC 4199: 404 Client Error: Not found: (rfc4199.txt) for url: https://tools.ietf.org/html/rfc4199\n",
      "WARNING:root:RFC 4200: 404 Client Error: Not found: (rfc4200.txt) for url: https://tools.ietf.org/html/rfc4200\n",
      "WARNING:root:RFC 4232: 404 Client Error: Not found: (rfc4232.txt) for url: https://tools.ietf.org/html/rfc4232\n",
      "WARNING:root:RFC 4299: 404 Client Error: Not found: (rfc4299.txt) for url: https://tools.ietf.org/html/rfc4299\n",
      "WARNING:root:RFC 4300: 404 Client Error: Not found: (rfc4300.txt) for url: https://tools.ietf.org/html/rfc4300\n",
      "WARNING:root:RFC 4399: 404 Client Error: Not found: (rfc4399.txt) for url: https://tools.ietf.org/html/rfc4399\n",
      "WARNING:root:RFC 4400: 404 Client Error: Not found: (rfc4400.txt) for url: https://tools.ietf.org/html/rfc4400\n",
      "WARNING:root:RFC 4499: 404 Client Error: Not found: (rfc4499.txt) for url: https://tools.ietf.org/html/rfc4499\n",
      "WARNING:root:RFC 4500: 404 Client Error: Not found: (rfc4500.txt) for url: https://tools.ietf.org/html/rfc4500\n",
      "WARNING:root:RFC 4599: 404 Client Error: Not found: (rfc4599.txt) for url: https://tools.ietf.org/html/rfc4599\n",
      "WARNING:root:RFC 4600: 404 Client Error: Not found: (rfc4600.txt) for url: https://tools.ietf.org/html/rfc4600\n",
      "WARNING:root:RFC 4658: 404 Client Error: Not found: (rfc4658.txt) for url: https://tools.ietf.org/html/rfc4658\n",
      "WARNING:root:RFC 4699: 404 Client Error: Not found: (rfc4699.txt) for url: https://tools.ietf.org/html/rfc4699\n",
      "WARNING:root:RFC 4700: 404 Client Error: Not found: (rfc4700.txt) for url: https://tools.ietf.org/html/rfc4700\n",
      "WARNING:root:RFC 4751: 404 Client Error: Not found: (rfc4751.txt) for url: https://tools.ietf.org/html/rfc4751\n",
      "WARNING:root:RFC 4799: 404 Client Error: Not found: (rfc4799.txt) for url: https://tools.ietf.org/html/rfc4799\n",
      "WARNING:root:RFC 4800: 404 Client Error: Not found: (rfc4800.txt) for url: https://tools.ietf.org/html/rfc4800\n",
      "WARNING:root:RFC 4899: 404 Client Error: Not found: (rfc4899.txt) for url: https://tools.ietf.org/html/rfc4899\n",
      "WARNING:root:RFC 4900: 404 Client Error: Not found: (rfc4900.txt) for url: https://tools.ietf.org/html/rfc4900\n",
      "WARNING:root:RFC 4921: 404 Client Error: Not found: (rfc4921.txt) for url: https://tools.ietf.org/html/rfc4921\n",
      "WARNING:root:RFC 4922: 404 Client Error: Not found: (rfc4922.txt) for url: https://tools.ietf.org/html/rfc4922\n",
      "WARNING:root:RFC 4989: 404 Client Error: Not found: (rfc4989.txt) for url: https://tools.ietf.org/html/rfc4989\n",
      "WARNING:root:RFC 4999: 404 Client Error: Not found: (rfc4999.txt) for url: https://tools.ietf.org/html/rfc4999\n",
      "WARNING:root:RFC 5099: 404 Client Error: Not found: (rfc5099.txt) for url: https://tools.ietf.org/html/rfc5099\n",
      "WARNING:root:RFC 5100: 404 Client Error: Not found: (rfc5100.txt) for url: https://tools.ietf.org/html/rfc5100\n",
      "WARNING:root:RFC 5108: 404 Client Error: Not found: (rfc5108.txt) for url: https://tools.ietf.org/html/rfc5108\n",
      "WARNING:root:RFC 5199: 404 Client Error: Not found: (rfc5199.txt) for url: https://tools.ietf.org/html/rfc5199\n",
      "WARNING:root:RFC 5200: 404 Client Error: Not found: (rfc5200.txt) for url: https://tools.ietf.org/html/rfc5200\n",
      "WARNING:root:RFC 5299: 404 Client Error: Not found: (rfc5299.txt) for url: https://tools.ietf.org/html/rfc5299\n",
      "WARNING:root:RFC 5300: 404 Client Error: Not found: (rfc5300.txt) for url: https://tools.ietf.org/html/rfc5300\n",
      "WARNING:root:RFC 5312: 404 Client Error: Not found: (rfc5312.txt) for url: https://tools.ietf.org/html/rfc5312\n",
      "WARNING:root:RFC 5313: 404 Client Error: Not found: (rfc5313.txt) for url: https://tools.ietf.org/html/rfc5313\n",
      "WARNING:root:RFC 5314: 404 Client Error: Not found: (rfc5314.txt) for url: https://tools.ietf.org/html/rfc5314\n",
      "WARNING:root:RFC 5315: 404 Client Error: Not found: (rfc5315.txt) for url: https://tools.ietf.org/html/rfc5315\n",
      "WARNING:root:RFC 5319: 404 Client Error: Not found: (rfc5319.txt) for url: https://tools.ietf.org/html/rfc5319\n",
      "WARNING:root:RFC 5399: 404 Client Error: Not found: (rfc5399.txt) for url: https://tools.ietf.org/html/rfc5399\n",
      "WARNING:root:RFC 5400: 404 Client Error: Not found: (rfc5400.txt) for url: https://tools.ietf.org/html/rfc5400\n",
      "WARNING:root:RFC 5499: 404 Client Error: Not found: (rfc5499.txt) for url: https://tools.ietf.org/html/rfc5499\n",
      "WARNING:root:RFC 5500: 404 Client Error: Not found: (rfc5500.txt) for url: https://tools.ietf.org/html/rfc5500\n",
      "WARNING:root:RFC 5599: 404 Client Error: Not found: (rfc5599.txt) for url: https://tools.ietf.org/html/rfc5599\n",
      "WARNING:root:RFC 5600: 404 Client Error: Not found: (rfc5600.txt) for url: https://tools.ietf.org/html/rfc5600\n",
      "WARNING:root:RFC 5699: 404 Client Error: Not found: (rfc5699.txt) for url: https://tools.ietf.org/html/rfc5699\n",
      "WARNING:root:RFC 5700: 404 Client Error: Not found: (rfc5700.txt) for url: https://tools.ietf.org/html/rfc5700\n",
      "WARNING:root:RFC 5799: 404 Client Error: Not found: (rfc5799.txt) for url: https://tools.ietf.org/html/rfc5799\n",
      "WARNING:root:RFC 5800: 404 Client Error: Not found: (rfc5800.txt) for url: https://tools.ietf.org/html/rfc5800\n",
      "WARNING:root:RFC 5809: 404 Client Error: Not found: (rfc5809.txt) for url: https://tools.ietf.org/html/rfc5809\n",
      "WARNING:root:RFC 5821: 404 Client Error: Not found: (rfc5821.txt) for url: https://tools.ietf.org/html/rfc5821\n",
      "WARNING:root:RFC 5822: 404 Client Error: Not found: (rfc5822.txt) for url: https://tools.ietf.org/html/rfc5822\n",
      "WARNING:root:RFC 5823: 404 Client Error: Not found: (rfc5823.txt) for url: https://tools.ietf.org/html/rfc5823\n",
      "WARNING:root:RFC 5899: 404 Client Error: Not found: (rfc5899.txt) for url: https://tools.ietf.org/html/rfc5899\n",
      "WARNING:root:RFC 5900: 404 Client Error: Not found: (rfc5900.txt) for url: https://tools.ietf.org/html/rfc5900\n",
      "WARNING:root:RFC 5999: 404 Client Error: Not found: (rfc5999.txt) for url: https://tools.ietf.org/html/rfc5999\n",
      "WARNING:root:RFC 6000: 404 Client Error: Not found: (rfc6000.txt) for url: https://tools.ietf.org/html/rfc6000\n",
      "WARNING:root:RFC 6099: 404 Client Error: Not found: (rfc6099.txt) for url: https://tools.ietf.org/html/rfc6099\n",
      "WARNING:root:RFC 6100: 404 Client Error: Not found: (rfc6100.txt) for url: https://tools.ietf.org/html/rfc6100\n"
     ]
    },
    {
     "name": "stderr",
     "output_type": "stream",
     "text": [
      "WARNING:root:RFC 6102: 404 Client Error: Not found: (rfc6102.txt) for url: https://tools.ietf.org/html/rfc6102\n",
      "WARNING:root:RFC 6103: 404 Client Error: Not found: (rfc6103.txt) for url: https://tools.ietf.org/html/rfc6103\n",
      "WARNING:root:RFC 6199: 404 Client Error: Not found: (rfc6199.txt) for url: https://tools.ietf.org/html/rfc6199\n",
      "WARNING:root:RFC 6200: 404 Client Error: Not found: (rfc6200.txt) for url: https://tools.ietf.org/html/rfc6200\n",
      "WARNING:root:RFC 6299: 404 Client Error: Not found: (rfc6299.txt) for url: https://tools.ietf.org/html/rfc6299\n",
      "WARNING:root:RFC 6300: 404 Client Error: Not found: (rfc6300.txt) for url: https://tools.ietf.org/html/rfc6300\n",
      "WARNING:root:RFC 6399: 404 Client Error: Not found: (rfc6399.txt) for url: https://tools.ietf.org/html/rfc6399\n",
      "WARNING:root:RFC 6400: 404 Client Error: Not found: (rfc6400.txt) for url: https://tools.ietf.org/html/rfc6400\n",
      "WARNING:root:RFC 6499: 404 Client Error: Not found: (rfc6499.txt) for url: https://tools.ietf.org/html/rfc6499\n",
      "WARNING:root:RFC 6500: 404 Client Error: Not found: (rfc6500.txt) for url: https://tools.ietf.org/html/rfc6500\n",
      "WARNING:root:RFC 6523: 404 Client Error: Not found: (rfc6523.txt) for url: https://tools.ietf.org/html/rfc6523\n",
      "WARNING:root:RFC 6524: 404 Client Error: Not found: (rfc6524.txt) for url: https://tools.ietf.org/html/rfc6524\n",
      "WARNING:root:RFC 6599: 404 Client Error: Not found: (rfc6599.txt) for url: https://tools.ietf.org/html/rfc6599\n",
      "WARNING:root:RFC 6600: 404 Client Error: Not found: (rfc6600.txt) for url: https://tools.ietf.org/html/rfc6600\n",
      "WARNING:root:RFC 6634: 404 Client Error: Not found: (rfc6634.txt) for url: https://tools.ietf.org/html/rfc6634\n",
      "WARNING:root:RFC 6699: 404 Client Error: Not found: (rfc6699.txt) for url: https://tools.ietf.org/html/rfc6699\n",
      "WARNING:root:RFC 6700: 404 Client Error: Not found: (rfc6700.txt) for url: https://tools.ietf.org/html/rfc6700\n",
      "WARNING:root:RFC 6799: 404 Client Error: Not found: (rfc6799.txt) for url: https://tools.ietf.org/html/rfc6799\n",
      "WARNING:root:RFC 6800: 404 Client Error: Not found: (rfc6800.txt) for url: https://tools.ietf.org/html/rfc6800\n",
      "WARNING:root:RFC 6899: 404 Client Error: Not found: (rfc6899.txt) for url: https://tools.ietf.org/html/rfc6899\n",
      "WARNING:root:RFC 6900: 404 Client Error: Not found: (rfc6900.txt) for url: https://tools.ietf.org/html/rfc6900\n",
      "WARNING:root:RFC 6966: 404 Client Error: Not found: (rfc6966.txt) for url: https://tools.ietf.org/html/rfc6966\n",
      "WARNING:root:RFC 6995: 404 Client Error: Not found: (rfc6995.txt) for url: https://tools.ietf.org/html/rfc6995\n",
      "WARNING:root:RFC 6999: 404 Client Error: Not found: (rfc6999.txt) for url: https://tools.ietf.org/html/rfc6999\n",
      "WARNING:root:RFC 7000: 404 Client Error: Not found: (rfc7000.txt) for url: https://tools.ietf.org/html/rfc7000\n",
      "WARNING:root:RFC 7099: 404 Client Error: Not found: (rfc7099.txt) for url: https://tools.ietf.org/html/rfc7099\n",
      "WARNING:root:RFC 7327: 404 Client Error: Not found: (rfc7327.txt) for url: https://tools.ietf.org/html/rfc7327\n",
      "WARNING:root:RFC 7907: 404 Client Error: Not found: (rfc7907.txt) for url: https://tools.ietf.org/html/rfc7907\n",
      "WARNING:root:RFC 8127: 404 Client Error: Not found: (rfc8127.txt) for url: https://tools.ietf.org/html/rfc8127\n",
      "WARNING:root:RFC 8158: 404 Client Error: Not found: (rfc8158.txt) for url: https://tools.ietf.org/html/rfc8158\n",
      "WARNING:root:RFC 8187: 404 Client Error: Not found: (rfc8187.txt) for url: https://tools.ietf.org/html/rfc8187\n",
      "WARNING:root:RFC 8189: 404 Client Error: Not found: (rfc8189.txt) for url: https://tools.ietf.org/html/rfc8189\n",
      "WARNING:root:RFC 8204: 404 Client Error: Not found: (rfc8204.txt) for url: https://tools.ietf.org/html/rfc8204\n",
      "WARNING:root:RFC 8205: 404 Client Error: Not found: (rfc8205.txt) for url: https://tools.ietf.org/html/rfc8205\n",
      "WARNING:root:RFC 8206: 404 Client Error: Not found: (rfc8206.txt) for url: https://tools.ietf.org/html/rfc8206\n",
      "WARNING:root:RFC 8207: 404 Client Error: Not found: (rfc8207.txt) for url: https://tools.ietf.org/html/rfc8207\n",
      "WARNING:root:RFC 8208: 404 Client Error: Not found: (rfc8208.txt) for url: https://tools.ietf.org/html/rfc8208\n",
      "WARNING:root:RFC 8209: 404 Client Error: Not found: (rfc8209.txt) for url: https://tools.ietf.org/html/rfc8209\n",
      "WARNING:root:RFC 8210: 404 Client Error: Not found: (rfc8210.txt) for url: https://tools.ietf.org/html/rfc8210\n",
      "WARNING:root:RFC 8211: 404 Client Error: Not found: (rfc8211.txt) for url: https://tools.ietf.org/html/rfc8211\n",
      "WARNING:root:RFC 8216: 404 Client Error: Not found: (rfc8216.txt) for url: https://tools.ietf.org/html/rfc8216\n",
      "WARNING:root:RFC 8220: 404 Client Error: Not found: (rfc8220.txt) for url: https://tools.ietf.org/html/rfc8220\n",
      "WARNING:root:RFC 8221: 404 Client Error: Not found: (rfc8221.txt) for url: https://tools.ietf.org/html/rfc8221\n",
      "WARNING:root:RFC 8222: 404 Client Error: Not found: (rfc8222.txt) for url: https://tools.ietf.org/html/rfc8222\n",
      "WARNING:root:RFC 8223: 404 Client Error: Not found: (rfc8223.txt) for url: https://tools.ietf.org/html/rfc8223\n",
      "WARNING:root:RFC 8224: 404 Client Error: Not found: (rfc8224.txt) for url: https://tools.ietf.org/html/rfc8224\n",
      "WARNING:root:RFC 8225: 404 Client Error: Not found: (rfc8225.txt) for url: https://tools.ietf.org/html/rfc8225\n",
      "WARNING:root:RFC 8226: 404 Client Error: Not found: (rfc8226.txt) for url: https://tools.ietf.org/html/rfc8226\n",
      "WARNING:root:RFC 8227: 404 Client Error: Not found: (rfc8227.txt) for url: https://tools.ietf.org/html/rfc8227\n"
     ]
    },
    {
     "name": "stdout",
     "output_type": "stream",
     "text": [
      "CPU times: user 7min 3s, sys: 12.3 s, total: 7min 16s\n",
      "Wall time: 1h 34min 7s\n"
     ]
    }
   ],
   "source": [
    "%%time\n",
    "\n",
    "data = {}\n",
    "missing_rfcs = []\n",
    "\n",
    "for rfc in range(*RFC_RANGE):\n",
    "    out = []\n",
    "    try:\n",
    "        soup = soup_from_rfc(rfc)\n",
    "        out = outgoing(soup, rfc)\n",
    "    except requests.HTTPError as e:\n",
    "        LOG.warning(f'RFC {rfc}: {e}')\n",
    "        missing_rfcs.append(rfc)\n",
    "    data[rfc] = out"
   ]
  },
  {
   "cell_type": "code",
   "execution_count": null,
   "metadata": {
    "collapsed": true
   },
   "outputs": [],
   "source": [
    "with open('missing_rfcs.txt', 'w') as f:\n",
    "    for rfc in sorted(missing_rfcs):\n",
    "        f.write(f'{rfc}\\n')"
   ]
  },
  {
   "cell_type": "markdown",
   "metadata": {},
   "source": [
    "# [Reload]"
   ]
  },
  {
   "cell_type": "code",
   "execution_count": 7,
   "metadata": {},
   "outputs": [
    {
     "name": "stdout",
     "output_type": "stream",
     "text": [
      "miserables.json   missing-rfcs.txt  pruned.json       rfc-data.json     test.json\r\n"
     ]
    }
   ],
   "source": [
    "ls *.txt *.json"
   ]
  },
  {
   "cell_type": "code",
   "execution_count": 27,
   "metadata": {},
   "outputs": [],
   "source": [
    "with open('missing-rfcs.txt') as f:\n",
    "    missing_rfcs = [line.strip() for line in f if line.strip()]"
   ]
  },
  {
   "cell_type": "code",
   "execution_count": 68,
   "metadata": {},
   "outputs": [],
   "source": [
    "with open('rfc-data.json') as f:\n",
    "    data = json.load(f)\n",
    "    # BECAUSE PYTHON JSON CANT HANDLE INTEGER KEYS!?!\n",
    "    d = {}\n",
    "    for k, v in data.items():\n",
    "        d[int(k)] = v\n",
    "    data = d\n",
    "    del d"
   ]
  },
  {
   "cell_type": "markdown",
   "metadata": {},
   "source": [
    "# ¡Explore!"
   ]
  },
  {
   "cell_type": "markdown",
   "metadata": {},
   "source": [
    "What proportion of RFCs are missing?"
   ]
  },
  {
   "cell_type": "code",
   "execution_count": 29,
   "metadata": {},
   "outputs": [
    {
     "data": {
      "text/plain": [
       "(123, 0.014947138169886985)"
      ]
     },
     "execution_count": 29,
     "metadata": {},
     "output_type": "execute_result"
    }
   ],
   "source": [
    "len(missing_rfcs), float(len(missing_rfcs))/(RFC_RANGE[1] - 1)"
   ]
  },
  {
   "cell_type": "markdown",
   "metadata": {},
   "source": [
    "Are there any RFCs in the outgoing set that doesn't make sense?"
   ]
  },
  {
   "cell_type": "code",
   "execution_count": 30,
   "metadata": {},
   "outputs": [
    {
     "name": "stdout",
     "output_type": "stream",
     "text": [
      "661 [65125]\n",
      "1012 [8401]\n",
      "2626 [10336]\n",
      "3426 [25434]\n",
      "4523 [44520]\n",
      "7991 [9999]\n",
      "7992 [9999]\n"
     ]
    }
   ],
   "source": [
    "for rfc, out in data.items():\n",
    "    pruned = [o for o in out if RFC_RANGE[0] <= o <= RFC_RANGE[1]]\n",
    "    if len(pruned) < len(out):\n",
    "        print(rfc, sorted(set(out) - set(pruned)))"
   ]
  },
  {
   "cell_type": "markdown",
   "metadata": {},
   "source": [
    "There's very few here, such that we're not going to worry about it."
   ]
  },
  {
   "cell_type": "markdown",
   "metadata": {},
   "source": [
    "Let's look at some degree distributions!"
   ]
  },
  {
   "cell_type": "code",
   "execution_count": 41,
   "metadata": {},
   "outputs": [
    {
     "data": {
      "image/png": "[encoded data removed]",
      "text/plain": [
       "<matplotlib.figure.Figure at 0x117e18ba8>"
      ]
     },
     "metadata": {},
     "output_type": "display_data"
    }
   ],
   "source": [
    "with sns.axes_style('whitegrid'):\n",
    "    plt.hist([log(len(out) + 1) for out in data.values()], bins=range(8))\n",
    "    plt.title('Log distribution of out-degree')\n",
    "    plt.show()"
   ]
  },
  {
   "cell_type": "code",
   "execution_count": 40,
   "metadata": {},
   "outputs": [
    {
     "data": {
      "image/png": "[encoded data removed]",
      "text/plain": [
       "<matplotlib.figure.Figure at 0x1173a48d0>"
      ]
     },
     "metadata": {},
     "output_type": "display_data"
    }
   ],
   "source": [
    "with sns.axes_style('whitegrid'):\n",
    "    inv = defaultdict(list)\n",
    "    for rfc, out in data.items():\n",
    "        for o in out:\n",
    "            inv[o].append(rfc)\n",
    "    plt.hist([log(len(v) + 1) for v in inv.values()], bins=range(8))\n",
    "    plt.title('Log distribution of in-degree')\n",
    "    plt.show()"
   ]
  },
  {
   "cell_type": "markdown",
   "metadata": {},
   "source": [
    "How many RFCs link to missing RFCs?"
   ]
  },
  {
   "cell_type": "code",
   "execution_count": 52,
   "metadata": {},
   "outputs": [
    {
     "data": {
      "text/plain": [
       "[]"
      ]
     },
     "execution_count": 52,
     "metadata": {},
     "output_type": "execute_result"
    }
   ],
   "source": [
    "missing = Counter()\n",
    "for rfc, out in data.items():\n",
    "    missing.update(o for o in out if o in missing_rfcs)\n",
    "missing.most_common()"
   ]
  },
  {
   "cell_type": "markdown",
   "metadata": {},
   "source": [
    "Woah. I almost don't believe that!"
   ]
  },
  {
   "cell_type": "markdown",
   "metadata": {
    "collapsed": true
   },
   "source": [
    "Which RFCs are the most central?"
   ]
  },
  {
   "cell_type": "code",
   "execution_count": 196,
   "metadata": {},
   "outputs": [],
   "source": [
    "graph = nx.Graph()\n",
    "\n",
    "for rfc, out in data.items():\n",
    "    for o in out:\n",
    "        graph.add_edge(rfc, o)\n",
    "    graph.add_node(rfc)  # in the case that RFC is an island"
   ]
  },
  {
   "cell_type": "code",
   "execution_count": 178,
   "metadata": {
    "collapsed": true
   },
   "outputs": [],
   "source": [
    "def print_scores(scores):\n",
    "    for score, rfc in scores:\n",
    "        title = title_from_soup(rfc)\n",
    "        url = url_from_rfc(rfc)\n",
    "        print('{:.3f}{:>6}{:>64}  {:<32}'.format(score, rfc, title, url))"
   ]
  },
  {
   "cell_type": "code",
   "execution_count": 192,
   "metadata": {
    "collapsed": true
   },
   "outputs": [],
   "source": [
    "def most_important(important, graph, n=8):\n",
    "    centers = sorted((score, rfc) for rfc, score in important(graph).items())\n",
    "    print_scores(reversed(centers[-n:]))\n",
    "    return centers"
   ]
  },
  {
   "cell_type": "code",
   "execution_count": 193,
   "metadata": {},
   "outputs": [
    {
     "name": "stdout",
     "output_type": "stream",
     "text": [
      "0.491  2119        Key words for use in RFCs to Indicate Requirement Levels  https://tools.ietf.org/html/rfc2119\n",
      "0.261  5741                          RFC Streams, Headers, and Boilerplates  https://tools.ietf.org/html/rfc5741\n",
      "0.112  1012              BIBLIOGRAPHY OF REQUEST FOR COMMENTS 1 THROUGH 999  https://tools.ietf.org/html/rfc1012\n",
      "0.072  5226   Guidelines for Writing an IANA Considerations Section in RFCs  https://tools.ietf.org/html/rfc5226\n",
      "0.062  3261                                SIP: Session Initiation Protocol  https://tools.ietf.org/html/rfc3261\n",
      "0.055   791                                                                  https://tools.ietf.org/html/rfc791\n",
      "0.054   822                                      STANDARD FOR THE FORMAT OF  https://tools.ietf.org/html/rfc822\n",
      "0.050   793                                                                  https://tools.ietf.org/html/rfc793\n"
     ]
    }
   ],
   "source": [
    "deg_top = most_important(nx.degree_centrality, graph)"
   ]
  },
  {
   "cell_type": "code",
   "execution_count": 194,
   "metadata": {},
   "outputs": [
    {
     "name": "stdout",
     "output_type": "stream",
     "text": [
      "0.523  2119        Key words for use in RFCs to Indicate Requirement Levels  https://tools.ietf.org/html/rfc2119\n",
      "0.273  5741                          RFC Streams, Headers, and Boilerplates  https://tools.ietf.org/html/rfc5741\n",
      "0.095  5226   Guidelines for Writing an IANA Considerations Section in RFCs  https://tools.ietf.org/html/rfc5226\n",
      "0.072  3261                                SIP: Session Initiation Protocol  https://tools.ietf.org/html/rfc3261\n",
      "0.060  5246                     The Transport Layer Security (TLS) Protocol  https://tools.ietf.org/html/rfc5246\n",
      "0.053  2434   Guidelines for Writing an IANA Considerations Section in RFCs  https://tools.ietf.org/html/rfc2434\n",
      "0.053  5234                   Augmented BNF for Syntax Specifications: ABNF  https://tools.ietf.org/html/rfc5234\n",
      "0.052  3986               Uniform Resource Identifier (URI): Generic Syntax  https://tools.ietf.org/html/rfc3986\n"
     ]
    }
   ],
   "source": [
    "eig_top = most_important(nx.eigenvector_centrality, graph)"
   ]
  },
  {
   "cell_type": "code",
   "execution_count": 195,
   "metadata": {},
   "outputs": [
    {
     "name": "stdout",
     "output_type": "stream",
     "text": [
      "0.257  2119        Key words for use in RFCs to Indicate Requirement Levels  https://tools.ietf.org/html/rfc2119\n",
      "0.071  5741                          RFC Streams, Headers, and Boilerplates  https://tools.ietf.org/html/rfc5741\n",
      "0.007  5226   Guidelines for Writing an IANA Considerations Section in RFCs  https://tools.ietf.org/html/rfc5226\n",
      "0.004  3261                                SIP: Session Initiation Protocol  https://tools.ietf.org/html/rfc3261\n",
      "0.003   791                                                                  https://tools.ietf.org/html/rfc791\n",
      "0.002   793                                                                  https://tools.ietf.org/html/rfc793\n",
      "0.002  5246                     The Transport Layer Security (TLS) Protocol  https://tools.ietf.org/html/rfc5246\n",
      "0.002  2434   Guidelines for Writing an IANA Considerations Section in RFCs  https://tools.ietf.org/html/rfc2434\n",
      "0.002  3986               Uniform Resource Identifier (URI): Generic Syntax  https://tools.ietf.org/html/rfc3986\n",
      "0.002  5234                   Augmented BNF for Syntax Specifications: ABNF  https://tools.ietf.org/html/rfc5234\n",
      "0.002  1035                 DOMAIN NAMES - IMPLEMENTATION AND SPECIFICATION  https://tools.ietf.org/html/rfc1035\n",
      "0.002  2460                             Internet Protocol, Version 6 (IPv6)  https://tools.ietf.org/html/rfc2460\n",
      "0.002  2616                         Hypertext Transfer Protocol -- HTTP/1.1  https://tools.ietf.org/html/rfc2616\n",
      "0.002  3550            RTP: A Transport Protocol for Real-Time Applications  https://tools.ietf.org/html/rfc3550\n",
      "0.002  3629                     UTF-8, a transformation format of ISO 10646  https://tools.ietf.org/html/rfc3629\n",
      "0.002   822                                      STANDARD FOR THE FORMAT OF  https://tools.ietf.org/html/rfc822\n"
     ]
    }
   ],
   "source": [
    "combo_top = defaultdict(lambda: 1)\n",
    "for top in [deg_top, eig_top]:\n",
    "    for score, rfc in top:\n",
    "        combo_top[rfc] *= score\n",
    "        \n",
    "combo_top = sorted({v: k for k, v in combo_top.items()}.items())\n",
    "print_scores(reversed(combo_top[-16:]))"
   ]
  },
  {
   "cell_type": "code",
   "execution_count": 205,
   "metadata": {},
   "outputs": [
    {
     "data": {
      "image/png": "[encoded data removed]",
      "text/plain": [
       "<matplotlib.figure.Figure at 0x1180c8518>"
      ]
     },
     "metadata": {},
     "output_type": "display_data"
    }
   ],
   "source": [
    "nx.draw_spring(graph)"
   ]
  },
  {
   "cell_type": "code",
   "execution_count": null,
   "metadata": {
    "collapsed": true
   },
   "outputs": [],
   "source": []
  }
 ],
 "metadata": {
  "kernelspec": {
   "display_name": "Python 3",
   "language": "python",
   "name": "python3"
  },
  "language_info": {
   "codemirror_mode": {
    "name": "ipython",
    "version": 3
   },
   "file_extension": ".py",
   "mimetype": "text/x-python",
   "name": "python",
   "nbconvert_exporter": "python",
   "pygments_lexer": "ipython3",
   "version": "3.6.2"
  }
 },
 "nbformat": 4,
 "nbformat_minor": 2
}
